{
 "cells": [
  {
   "cell_type": "code",
   "execution_count": 2,
   "metadata": {},
   "outputs": [
    {
     "name": "stdout",
     "output_type": "stream",
     "text": [
      "[1, 2, 3]\n"
     ]
    }
   ],
   "source": [
    "#Usuwanie duplikatow\n",
    "\n",
    "A = [1,1,1,1,1,2,2,2,3,3,3]\n",
    "\n",
    "B = list(set(A))\n",
    "\n",
    "print(B)"
   ]
  },
  {
   "cell_type": "code",
   "execution_count": 7,
   "metadata": {},
   "outputs": [
    {
     "name": "stdout",
     "output_type": "stream",
     "text": [
      "['s', 'o', 'O', 'e', 't', 'i', 'n', 'g']\n",
      "s|o|O|e|t|i|n|g\n"
     ]
    }
   ],
   "source": [
    "#Obiekty mutable i immutable\n",
    "\n",
    "word = 'someting'\n",
    "#word[2] = 'O' - niepoprawne, string jest niemodyfikowalny\n",
    "\n",
    "word_list = list(word)\n",
    "word_list[2] = 'O'\n",
    "print(word_list)\n",
    "word = \"\".join(word_list)\n",
    "print(word)\n"
   ]
  },
  {
   "cell_type": "code",
   "execution_count": 8,
   "metadata": {},
   "outputs": [
    {
     "name": "stdout",
     "output_type": "stream",
     "text": [
      "[1, 2, 'new_value', 4, False, (1, 2, 3)]\n"
     ]
    }
   ],
   "source": [
    "#Roznice pomiedzy lita a tuplem\n",
    "example_list = [1,2,3,4,False,(1,2,3)]\n",
    "example_tuple = (4,1,6,True, ['x', 1])\n",
    "\n",
    "example_list[2] = 'new_value'\n",
    "print(example_list)\n",
    "\n",
    "#example_tuple[2] = 'new value' -> niepoprawne tupla jest niemodyfikowalna"
   ]
  },
  {
   "cell_type": "code",
   "execution_count": 12,
   "metadata": {},
   "outputs": [
    {
     "name": "stdout",
     "output_type": "stream",
     "text": [
      "True\n",
      "3\n",
      "Z\n",
      "[1, 2, 3]\n",
      "['pies', 'kot']\n",
      "[True, True, False, True]\n",
      "[1, ['X', 'Y', 'Z'], 2]\n"
     ]
    }
   ],
   "source": [
    "#Lista wielowymiarowa\n",
    "\n",
    "example_list = [[1,2,3], ['pies', 'kot'], [True, True, False, True], [1, ['X', 'Y', 'Z'], 2]]\n",
    "\n",
    "print(example_list[2][0])\n",
    "print(example_list[0][2])\n",
    "print(example_list[3][1][2])\n",
    "\n",
    "for i in example_list:\n",
    "    print(i)\n"
   ]
  },
  {
   "cell_type": "code",
   "execution_count": 13,
   "metadata": {},
   "outputs": [],
   "source": [
    "#Slowniki, klucze musza byc unikatowe, ale wartosci moga sie powatarzac\n",
    "#sprawdzenie czy dany klucz zawiera sie w slowniku zajmuje nam O(1), tak samo jak w set\n",
    "#sa oparte o tablice mieszajace\n",
    "#Kluczem w slowniku nie moze byc element mutowalny"
   ]
  },
  {
   "cell_type": "code",
   "execution_count": 18,
   "metadata": {},
   "outputs": [
    {
     "name": "stdout",
     "output_type": "stream",
     "text": [
      "1\n",
      "2\n",
      "3\n"
     ]
    }
   ],
   "source": [
    "#Od pytona 3.7 mamy zachowana kolejnosc w slownikach\n",
    "\n",
    "dict_example = {'X' : 1, 'Y' : 2, 'Z' : 3}\n",
    "\n",
    "for key in dict_example:\n",
    "    print(dict_example[key])"
   ]
  },
  {
   "cell_type": "code",
   "execution_count": 37,
   "metadata": {},
   "outputs": [
    {
     "name": "stdout",
     "output_type": "stream",
     "text": [
      "[1, 2, 3, 4, 5, 6, 7]\n",
      "[7, 6, 5, 4, 3, 2, 1]\n",
      "[7, 6, 5, 4, 3, 2, 1]\n"
     ]
    }
   ],
   "source": [
    "#Odwracanie listy\n",
    "A = [1,2,3,4,5,6,7]\n",
    "#A.reverse()\n",
    "print(A)\n",
    "\n",
    "B = list(reversed(A))\n",
    "print(B)\n",
    "\n",
    "#[start:stop:skok]\n",
    "C = A[::-1]\n",
    "print(C)"
   ]
  },
  {
   "cell_type": "code",
   "execution_count": 27,
   "metadata": {},
   "outputs": [
    {
     "name": "stdout",
     "output_type": "stream",
     "text": [
      "{'m': 1, 'y': 3, 's': 1, 'z': 3, 'd': 2, 'o': 2, 'k': 2, 'a': 2, 'u': 2, 'j': 2, 'ą': 2, 'g': 1, 't': 1, 'n': 1, 'i': 1, 'e': 1, 'c': 1}\n",
      "dict_values([1, 3, 1, 3, 2, 2, 2, 2, 2, 2, 2, 1, 1, 1, 1, 1, 1])\n",
      "dict_keys(['m', 'y', 's', 'z', 'd', 'o', 'k', 'a', 'u', 'j', 'ą', 'g', 't', 'n', 'i', 'e', 'c'])\n"
     ]
    }
   ],
   "source": [
    "#ilosc wystapien danej litery w slowniku\n",
    "\n",
    "x = \"myszydokazujągdykotanieczują\"\n",
    "D = {}\n",
    "for letter in x:\n",
    "    if letter not in D.keys():\n",
    "        D[letter] = 1\n",
    "    else:\n",
    "        D[letter] += 1\n",
    "        \n",
    "print(D) \n",
    "print(D.values())\n",
    "print(D.keys())"
   ]
  },
  {
   "cell_type": "code",
   "execution_count": 31,
   "metadata": {},
   "outputs": [
    {
     "name": "stdout",
     "output_type": "stream",
     "text": [
      "False\n",
      "False\n"
     ]
    }
   ],
   "source": [
    "#sprawdzenie czy jakas litera wystapila 4 razy w powyzszym slowniku\n",
    "\n",
    "x = \"myszydokazujągdykotanieczują\"\n",
    "D = {}\n",
    "for letter in x:\n",
    "    if letter not in D.keys():\n",
    "        D[letter] = 1\n",
    "    else:\n",
    "        D[letter] += 1\n",
    "        \n",
    "if 4 in D.values():\n",
    "    print(True)\n",
    "else:\n",
    "    print(False)\n",
    "    \n",
    "print( True if 4 in D.values() else False)    "
   ]
  },
  {
   "cell_type": "code",
   "execution_count": 38,
   "metadata": {},
   "outputs": [
    {
     "name": "stdout",
     "output_type": "stream",
     "text": [
      "True\n"
     ]
    }
   ],
   "source": [
    "#palindromy\n",
    "\n",
    "palidrom = 'kajak'\n",
    "\n",
    "print(True if palidrom == palidrom[::-1] else False)"
   ]
  },
  {
   "cell_type": "code",
   "execution_count": 40,
   "metadata": {},
   "outputs": [
    {
     "name": "stdout",
     "output_type": "stream",
     "text": [
      "[1, 2, 3, 4, 5, 6, 7, 8, 9, 10]\n",
      "[100, 99, 98, 97, 96, 95, 94, 93, 92, 91, 90, 89, 88, 87, 86, 85, 84, 83, 82, 81, 80, 79, 78, 77, 76, 75, 74, 73, 72, 71, 70, 69, 68, 67, 66, 65, 64, 63, 62, 61, 60, 59, 58, 57, 56, 55, 54, 53, 52, 51, 50, 49, 48, 47, 46, 45, 44, 43, 42, 41, 40, 39, 38, 37, 36, 35, 34, 33, 32, 31, 30, 29, 28, 27, 26, 25, 24, 23, 22, 21, 20, 19, 18, 17, 16, 15, 14, 13, 12, 11, 10, 9, 8, 7, 6, 5, 4, 3, 2]\n",
      "[100, 97, 94, 91, 88, 85, 82, 79, 76, 73, 70, 67, 64, 61, 58, 55, 52, 49, 46, 43, 40, 37, 34, 31, 28, 25, 22, 19, 16, 13, 10, 7, 4]\n"
     ]
    }
   ],
   "source": [
    "#listy jednolinijkowe\n",
    "\n",
    "A = [x for x in range(1,11)]\n",
    "print(A)\n",
    "\n",
    "#range(start, stop, krok)\n",
    "\n",
    "B = [x for x in range(100, 1, -1) ]\n",
    "C = [x for x in range (100, 1, -3)]\n",
    "print(B)\n",
    "print(C)"
   ]
  },
  {
   "cell_type": "code",
   "execution_count": 47,
   "metadata": {},
   "outputs": [
    {
     "name": "stdout",
     "output_type": "stream",
     "text": [
      "Lubię Pythona\n"
     ]
    }
   ],
   "source": [
    "#slice \n",
    "s = 'a nMozh^tKysPW 9ęxi b$uML'\n",
    "print(s[::-2])"
   ]
  },
  {
   "cell_type": "code",
   "execution_count": 50,
   "metadata": {},
   "outputs": [
    {
     "name": "stdout",
     "output_type": "stream",
     "text": [
      "1 John\n",
      "2 Abby\n",
      "3 Luiz\n",
      "4 Barrack\n"
     ]
    }
   ],
   "source": [
    "#Enumerate\n",
    "\n",
    "names = ['John', 'Abby', 'Luiz', 'Barrack']\n",
    "\n",
    "for num, name in enumerate(names, 1):\n",
    "    print(num, name)"
   ]
  },
  {
   "cell_type": "code",
   "execution_count": 52,
   "metadata": {},
   "outputs": [
    {
     "name": "stdout",
     "output_type": "stream",
     "text": [
      "-2\n",
      "16\n",
      "18\n"
     ]
    }
   ],
   "source": [
    "#Wyszukiwanie najmniejszych i najwiekszych wartosci w liscie oraz roznicy miedzy nimi\n",
    "\n",
    "A = [2,-2,0,1,16]\n",
    "\n",
    "print(min(A))\n",
    "print(max(A))\n",
    "print(max(A) - min(A))"
   ]
  },
  {
   "cell_type": "code",
   "execution_count": 54,
   "metadata": {},
   "outputs": [
    {
     "name": "stdout",
     "output_type": "stream",
     "text": [
      "True\n",
      "False\n",
      "True\n",
      "False\n",
      "True\n",
      "True\n"
     ]
    }
   ],
   "source": [
    "#roznica pomiedzy = a is \n",
    "\n",
    "print(1 == True) #operator porownania wartosci \n",
    "print(1 is True) #operator identycznosci\n",
    "\n",
    "A = [1,2,3]\n",
    "B = [1,2,3]\n",
    "\n",
    "print(A == B)\n",
    "print(A is B)\n",
    "\n",
    "a = 'pies'\n",
    "b = 'pies'\n",
    "\n",
    "print(a == b)\n",
    "print(a is b) #możemy miec tylko jeden ten sam obiekt w pamieci "
   ]
  },
  {
   "cell_type": "code",
   "execution_count": 55,
   "metadata": {},
   "outputs": [
    {
     "name": "stdout",
     "output_type": "stream",
     "text": [
      "True\n",
      "False\n"
     ]
    }
   ],
   "source": [
    "#porownania lancuchowe\n",
    "\n",
    "print(False is False is False) #(False is False) and (False is False)\n",
    "print (1 < 3 == 5) # (1 < 3) and (3 == 5)"
   ]
  },
  {
   "cell_type": "code",
   "execution_count": 58,
   "metadata": {},
   "outputs": [
    {
     "name": "stdout",
     "output_type": "stream",
     "text": [
      "8\n",
      "[('Robert', 33), ('Artur', 40), ('Feliks', 56), ('Anna', 82)]\n"
     ]
    }
   ],
   "source": [
    "#lambda, funkcje anonimowe\n",
    "\n",
    "x = lambda x,y: x**y\n",
    "\n",
    "print(x(2,3))\n",
    "#sortet(co_sortujemy, klucz wedlug czego(funkcja))\n",
    "L = [('Anna',82), ('Robert',33), ('Artur',40), ('Feliks',56)]\n",
    "L_sorted = sorted(L, key = lambda x: x[1])\n",
    "print(L_sorted)"
   ]
  },
  {
   "cell_type": "code",
   "execution_count": 61,
   "metadata": {},
   "outputs": [
    {
     "name": "stdout",
     "output_type": "stream",
     "text": [
      "[121, 2, 3, 4]\n",
      "[121, 2, 3, 4]\n",
      "[1, 2, 3, 4]\n",
      "[1, 2, 3, 4]\n"
     ]
    }
   ],
   "source": [
    "#kopiowanie list\n",
    "\n",
    "A = [1,2,3,4]\n",
    "B = A\n",
    "C = A[:] #do listy C nie przypisujemy referencji ale jej zawartosc\n",
    "D = A.copy()\n",
    "B[0] = 121\n",
    "\n",
    "print(B)\n",
    "print(A)\n",
    "print(C)\n",
    "print(D)"
   ]
  },
  {
   "cell_type": "code",
   "execution_count": 63,
   "metadata": {},
   "outputs": [
    {
     "name": "stdout",
     "output_type": "stream",
     "text": [
      "10 10\n",
      "111 111\n",
      "111 10\n"
     ]
    }
   ],
   "source": [
    "#zmienne lokale o globalne \n",
    "\n",
    "x = y = 10 \n",
    "print(x, y)\n",
    "\n",
    "def wypisz():\n",
    "    global x\n",
    "    x = 111\n",
    "    y = 111\n",
    "    print(x, y)\n",
    "    \n",
    "wypisz()\n",
    "\n",
    "print(x, y)"
   ]
  },
  {
   "cell_type": "code",
   "execution_count": 85,
   "metadata": {},
   "outputs": [
    {
     "name": "stdout",
     "output_type": "stream",
     "text": [
      "['1', '2', '3', '4', '5', '6', '7', '8', '9', '10', '11', '12', '13', '14', '15', '16', '17', '18', '19', '20', '21', '22', '23', '24', '25', '26', '27', '28', '29', '30', '31', '32', '33', '34', '35', '36', '37', '38', '39', '40', '41', '42', '43', '44', '45', '46', '47', '48', '49', '50', '51', '52', '53', '54', '55', '56', '57', '58', '59', '60', '61', '62', '63', '64', '65', '66', '67', '68', '69', '70', '71', '72', '73', '74', '75', '76', '77', '78', '79', '80', '81', '82', '83', '84', '85', '86', '87', '88', '89', '90', '91', '92', '93', '94', '95', '96', '97', '98', '99', '100']\n"
     ]
    }
   ],
   "source": [
    "#pliki\n",
    "import pprint\n",
    "\n",
    "with open('plik.txt','r+') as f:\n",
    "    for i in range (1,101):\n",
    "        f.write(str(i) +'\\n')\n",
    "        \n",
    "with open('plik.txt', 'r+') as f:\n",
    "    z_pliku = f.readlines()\n",
    "\n",
    "# print(type(z_pliku))\n",
    "# print(z_pliku)\n",
    "# pprint.pprint(z_pliku)\n",
    "    \n",
    "licznik = 0    \n",
    "for i in z_pliku:\n",
    "    z_pliku[licznik] = i[:-1]\n",
    "    licznik += 1\n",
    "print(z_pliku)   \n",
    "    "
   ]
  },
  {
   "cell_type": "code",
   "execution_count": 86,
   "metadata": {},
   "outputs": [],
   "source": [
    "# pakiet to folder zawierajacy moduly(pliki z rozszerzeniem .py) oraz plik __init__.py\n"
   ]
  },
  {
   "cell_type": "code",
   "execution_count": 87,
   "metadata": {},
   "outputs": [],
   "source": [
    "#map i filter\n",
    "#filter (funkcja, sekwencja)\n",
    "#map (funkcja, sekwencja)"
   ]
  },
  {
   "cell_type": "code",
   "execution_count": 113,
   "metadata": {},
   "outputs": [
    {
     "name": "stdout",
     "output_type": "stream",
     "text": [
      "To udekorowana funkcja\n",
      "[1, 2, 3, 4]\n",
      "---KONIEC---\n"
     ]
    }
   ],
   "source": [
    "#Dekoratory -> zmieniaja dzialanie funkcji \n",
    "\n",
    "A = [1,2,3,4]\n",
    "\n",
    "@dekorator_funckji\n",
    "def wyswietl():\n",
    "    print(A)\n",
    "\n",
    "        \n",
    "def dekorator_funckji(funkcja):\n",
    "    def udekorowana_funkcja():\n",
    "        print(\"To udekorowana funkcja\")\n",
    "        funkcja()\n",
    "        print(\"---KONIEC---\")\n",
    "    return udekorowana_funkcja    \n",
    "        \n",
    "wyswietl()      "
   ]
  },
  {
   "cell_type": "code",
   "execution_count": 115,
   "metadata": {},
   "outputs": [
    {
     "name": "stdout",
     "output_type": "stream",
     "text": [
      "2\n",
      "4\n",
      "6\n",
      "8\n",
      "10\n",
      "12\n",
      "14\n",
      "16\n",
      "18\n",
      "20\n",
      "22\n",
      "24\n",
      "26\n",
      "28\n"
     ]
    }
   ],
   "source": [
    "#generator \n",
    "#yield - zwraca kilka warosci \n",
    "\n",
    "def zwroc_parzyste():\n",
    "    for i in range (2,30,2):\n",
    "        yield i\n",
    "        \n",
    "z = zwroc_parzyste()\n",
    "\n",
    "for i in z:\n",
    "    print(i)"
   ]
  },
  {
   "cell_type": "code",
   "execution_count": null,
   "metadata": {},
   "outputs": [],
   "source": []
  }
 ],
 "metadata": {
  "kernelspec": {
   "display_name": "Python 3",
   "language": "python",
   "name": "python3"
  },
  "language_info": {
   "codemirror_mode": {
    "name": "ipython",
    "version": 3
   },
   "file_extension": ".py",
   "mimetype": "text/x-python",
   "name": "python",
   "nbconvert_exporter": "python",
   "pygments_lexer": "ipython3",
   "version": "3.7.6"
  }
 },
 "nbformat": 4,
 "nbformat_minor": 4
}
